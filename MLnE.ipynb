{
 "cells": [
  {
   "cell_type": "code",
   "execution_count": null,
   "metadata": {},
   "outputs": [],
   "source": [
    "import pandas as pd\n",
    "import re\n",
    "pd.set_option('display.max_colwidth', -1)\n",
    "import numpy as np"
   ]
  },
  {
   "cell_type": "code",
   "execution_count": null,
   "metadata": {},
   "outputs": [],
   "source": [
    "df = pd.read_csv('phy.txt',delimiter='\\001',header=None,encoding='UTF-8')"
   ]
  },
  {
   "cell_type": "code",
   "execution_count": null,
   "metadata": {},
   "outputs": [],
   "source": [
    "df.columns = ['user_id', 'question_id','user_answer','right_answer',\n",
    "'is_right',\n",
    "'tag_code',\n",
    "'description',\n",
    "'difficulty',\n",
    "'question_type',\n",
    "'content',\n",
    "'options',\n",
    "'reason' ]\n",
    "df.head(5)"
   ]
  },
  {
   "cell_type": "code",
   "execution_count": null,
   "metadata": {},
   "outputs": [],
   "source": [
    "df_multiple = df.dropna()"
   ]
  },
  {
   "cell_type": "code",
   "execution_count": null,
   "metadata": {},
   "outputs": [],
   "source": [
    "df_shorta=df[df['options'].isna()]"
   ]
  },
  {
   "cell_type": "code",
   "execution_count": null,
   "metadata": {},
   "outputs": [],
   "source": [
    "df_multiple_wrong = df_multiple[df_multiple['is_right']==0]\n",
    "df_shorta_wrong = df_shorta[df_shorta['is_right']==0]"
   ]
  },
  {
   "cell_type": "code",
   "execution_count": null,
   "metadata": {},
   "outputs": [],
   "source": [
    "df_multiple_wrong.iloc[0]"
   ]
  },
  {
   "cell_type": "code",
   "execution_count": null,
   "metadata": {},
   "outputs": [],
   "source": [
    "df_shorta_wrong.iloc[3][2]"
   ]
  },
  {
   "cell_type": "code",
   "execution_count": null,
   "metadata": {},
   "outputs": [],
   "source": [
    "import ast\n",
    "type(ast.literal_eval(df_shorta_wrong.iloc[3][3]))"
   ]
  },
  {
   "cell_type": "code",
   "execution_count": null,
   "metadata": {},
   "outputs": [],
   "source": [
    "len(df_shorta_wrong)"
   ]
  },
  {
   "cell_type": "code",
   "execution_count": null,
   "metadata": {},
   "outputs": [],
   "source": [
    "df_shorta_wrong.to_csv(path_or_buf='./short_ans_wrong.tsv',sep='\\t')\n",
    "df_multiple_wrong.to_csv(path_or_buf='./multiple_ch_wrong.tsv',sep='\\t')"
   ]
  },
  {
   "cell_type": "code",
   "execution_count": null,
   "metadata": {},
   "outputs": [],
   "source": [
    "kmap = pd.read_csv('phy_kmap.csv',encoding='UTF-8')\n",
    "kmap.head(1)"
   ]
  },
  {
   "cell_type": "code",
   "execution_count": null,
   "metadata": {},
   "outputs": [],
   "source": [
    "tag_ids = kmap[['tag_list']].iloc[0]\n",
    "tag_ids[0].split(\",\")"
   ]
  },
  {
   "cell_type": "code",
   "execution_count": null,
   "metadata": {},
   "outputs": [],
   "source": [
    "kmap_id_dict={}\n",
    "kmap_code_dict={}\n",
    "for row in kmap[['kmap_id','kmap_code','tag_list']].itertuples():\n",
    "    if row[1] in kmap_id_dict:\n",
    "        print('kid repeated ',row[1])\n",
    "    elif row[2] in kmap_code_dict:\n",
    "        print('k code repeated ',row[2])\n",
    "    kmap_id_dict[row[1]]=row[-1].split(\",\")\n",
    "    kmap_code_dict[row[2]]=row[-1].split(\",\")"
   ]
  },
  {
   "cell_type": "code",
   "execution_count": null,
   "metadata": {},
   "outputs": [],
   "source": [
    "op_df = pd.read_csv('./sample.tsv',sep='\\t',encoding='UTF-8')\n",
    "op_df.head(5)"
   ]
  },
  {
   "cell_type": "code",
   "execution_count": null,
   "metadata": {},
   "outputs": [],
   "source": [
    "def get_vecs():\n",
    "    q_tags={}\n",
    "    with open('./sample.tsv','r') as f:\n",
    "        f.readline()\n",
    "        for row in f.readlines():\n",
    "            cols=row.split('\\t')\n",
    "            cols[-1]=cols[-1][:-2]\n",
    "    #         print(cols[0])\n",
    "    #         print(cols[1:])\n",
    "            q_tags[cols[0]] = np.array(cols[1:],dtype=float)\n",
    "    return q_tags"
   ]
  },
  {
   "cell_type": "code",
   "execution_count": null,
   "metadata": {},
   "outputs": [],
   "source": [
    "def cluster_vecs_by_similarity(q_tags,min_similarity=0.85):\n",
    "    def get_cosine_dist(vec1,vec2):\n",
    "        return np.dot(vec1,vec2)/(np.linalg.norm(vec1)*np.linalg.norm(vec2))\n",
    "    unq_tags=list(q_tags.keys())\n",
    "    cluster_dict={}\n",
    "    cluster_count=0\n",
    "    clustered_q_tags=[]\n",
    "    for k in q_tags:\n",
    "        if k not in clustered_q_tags:\n",
    "            clustered_q_tags.append(k)\n",
    "            cluster_dict[cluster_count]=[k]\n",
    "            for q,vec in q_tags.items():\n",
    "                if q not in clustered_q_tags:\n",
    "                    if get_cosine_dist(vec,q_tags[k])>=min_similarity:\n",
    "                        clustered_q_tags.append(q)\n",
    "                        cluster_dict[cluster_count]+=[q]\n",
    "            cluster_count+=1\n",
    "    return cluster_dict         "
   ]
  },
  {
   "cell_type": "code",
   "execution_count": null,
   "metadata": {},
   "outputs": [],
   "source": [
    "clusters=cluster_vecs_by_similarity(q_tags,0.74)"
   ]
  },
  {
   "cell_type": "code",
   "execution_count": null,
   "metadata": {},
   "outputs": [],
   "source": [
    "\n",
    "df_mul2=df_multiple_wrong[df_multiple_wrong['question_type']=='RADIO']\n",
    "df_mul2.head()\n"
   ]
  },
  {
   "cell_type": "code",
   "execution_count": null,
   "metadata": {},
   "outputs": [],
   "source": [
    "df_mul2.to_csv(path_or_buf='./mult_radio.tsv',sep='\\t',encoding='UTF-8')"
   ]
  },
  {
   "cell_type": "code",
   "execution_count": null,
   "metadata": {},
   "outputs": [],
   "source": [
    "df_reason=df_mul2[['reason']]"
   ]
  },
  {
   "cell_type": "code",
   "execution_count": null,
   "metadata": {},
   "outputs": [],
   "source": [
    "res_lst=[]\n",
    "for row in df_reason.itertuples():\n",
    "    res_lst.append(re.sub('[\\\\u3010 \\\\u3011]','',row[-1]))"
   ]
  },
  {
   "cell_type": "code",
   "execution_count": null,
   "metadata": {},
   "outputs": [],
   "source": [
    "df_mul2['reason2'] = pd.Series(res_lst)"
   ]
  }
 ],
 "metadata": {
  "kernelspec": {
   "display_name": "Python 3",
   "language": "python",
   "name": "python3"
  },
  "language_info": {
   "codemirror_mode": {
    "name": "ipython",
    "version": 3
   },
   "file_extension": ".py",
   "mimetype": "text/x-python",
   "name": "python",
   "nbconvert_exporter": "python",
   "pygments_lexer": "ipython3",
   "version": "3.6.5"
  }
 },
 "nbformat": 4,
 "nbformat_minor": 2
}
